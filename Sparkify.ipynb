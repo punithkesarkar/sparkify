{
 "cells": [
  {
   "cell_type": "markdown",
   "metadata": {},
   "source": [
    "# Sparkify Project Workspace\n",
    "This workspace contains a tiny subset (128MB) of the full dataset available (12GB). Feel free to use this workspace to build your project, or to explore a smaller subset with Spark before deploying your cluster on the cloud. Instructions for setting up your Spark cluster is included in the last lesson of the Extracurricular Spark Course content.\n",
    "\n",
    "You can follow the steps below to guide your data analysis and model building portion of this project."
   ]
  },
  {
   "cell_type": "code",
   "execution_count": 399,
   "metadata": {},
   "outputs": [],
   "source": [
    "# import libraries\n",
    "# import libraries\n",
    "#%matplotlib inline\n",
    "from pyspark.sql import SparkSession\n",
    "from pyspark.sql.functions import isnan, count,countDistinct,date_trunc, when, col, desc, udf, col, sort_array, asc, avg\n",
    "from pyspark.sql.functions import sum as Fsum\n",
    "from pyspark.sql.window import Window\n",
    "import pyspark.sql.types as st\n",
    "from pyspark.sql import functions as F\n",
    "import matplotlib.pyplot as plt\n",
    "import seaborn as sns\n",
    "from pyspark.ml.classification import LogisticRegression\n",
    "from pyspark.ml.feature import VectorAssembler\n",
    "from pyspark.ml.classification import DecisionTreeClassifier, RandomForestClassifier, GBTClassifier\n",
    "sns.set_style('whitegrid')\n"
   ]
  },
  {
   "cell_type": "code",
   "execution_count": 2,
   "metadata": {},
   "outputs": [],
   "source": [
    "# create a Spark session\n",
    "spark = SparkSession.builder \\\n",
    "    .master(\"local\") \\\n",
    "    .appName(\"Initial Exploration\") \\\n",
    "    .getOrCreate()"
   ]
  },
  {
   "cell_type": "markdown",
   "metadata": {},
   "source": [
    "# Load and Clean Dataset\n",
    "In this workspace, the mini-dataset file is `mini_sparkify_event_data.json`. Load and clean the dataset, checking for invalid or missing data - for example, records without userids or sessionids. "
   ]
  },
  {
   "cell_type": "code",
   "execution_count": 34,
   "metadata": {},
   "outputs": [
    {
     "data": {
      "text/plain": [
       "[Row(artist='Martha Tilston', auth='Logged In', firstName='Colin', gender='M', itemInSession=50, lastName='Freeman', length=277.89016, level='paid', location='Bakersfield, CA', method='PUT', page='NextSong', registration=1538173362000, sessionId=29, song='Rockpools', status=200, ts=1538352117000, userAgent='Mozilla/5.0 (Windows NT 6.1; WOW64; rv:31.0) Gecko/20100101 Firefox/31.0', userId='30'),\n",
       " Row(artist='Five Iron Frenzy', auth='Logged In', firstName='Micah', gender='M', itemInSession=79, lastName='Long', length=236.09424, level='free', location='Boston-Cambridge-Newton, MA-NH', method='PUT', page='NextSong', registration=1538331630000, sessionId=8, song='Canada', status=200, ts=1538352180000, userAgent='\"Mozilla/5.0 (Windows NT 6.1; WOW64) AppleWebKit/537.36 (KHTML, like Gecko) Chrome/37.0.2062.103 Safari/537.36\"', userId='9'),\n",
       " Row(artist='Adam Lambert', auth='Logged In', firstName='Colin', gender='M', itemInSession=51, lastName='Freeman', length=282.8273, level='paid', location='Bakersfield, CA', method='PUT', page='NextSong', registration=1538173362000, sessionId=29, song='Time For Miracles', status=200, ts=1538352394000, userAgent='Mozilla/5.0 (Windows NT 6.1; WOW64; rv:31.0) Gecko/20100101 Firefox/31.0', userId='30'),\n",
       " Row(artist='Enigma', auth='Logged In', firstName='Micah', gender='M', itemInSession=80, lastName='Long', length=262.71302, level='free', location='Boston-Cambridge-Newton, MA-NH', method='PUT', page='NextSong', registration=1538331630000, sessionId=8, song='Knocking On Forbidden Doors', status=200, ts=1538352416000, userAgent='\"Mozilla/5.0 (Windows NT 6.1; WOW64) AppleWebKit/537.36 (KHTML, like Gecko) Chrome/37.0.2062.103 Safari/537.36\"', userId='9'),\n",
       " Row(artist='Daft Punk', auth='Logged In', firstName='Colin', gender='M', itemInSession=52, lastName='Freeman', length=223.60771, level='paid', location='Bakersfield, CA', method='PUT', page='NextSong', registration=1538173362000, sessionId=29, song='Harder Better Faster Stronger', status=200, ts=1538352676000, userAgent='Mozilla/5.0 (Windows NT 6.1; WOW64; rv:31.0) Gecko/20100101 Firefox/31.0', userId='30')]"
      ]
     },
     "execution_count": 34,
     "metadata": {},
     "output_type": "execute_result"
    }
   ],
   "source": [
    "df = spark.read.json('mini_sparkify_event_data.json')\n",
    "df.take(5)"
   ]
  },
  {
   "cell_type": "code",
   "execution_count": 9,
   "metadata": {},
   "outputs": [
    {
     "name": "stdout",
     "output_type": "stream",
     "text": [
      "root\n",
      " |-- artist: string (nullable = true)\n",
      " |-- auth: string (nullable = true)\n",
      " |-- firstName: string (nullable = true)\n",
      " |-- gender: string (nullable = true)\n",
      " |-- itemInSession: long (nullable = true)\n",
      " |-- lastName: string (nullable = true)\n",
      " |-- length: double (nullable = true)\n",
      " |-- level: string (nullable = true)\n",
      " |-- location: string (nullable = true)\n",
      " |-- method: string (nullable = true)\n",
      " |-- page: string (nullable = true)\n",
      " |-- registration: long (nullable = true)\n",
      " |-- sessionId: long (nullable = true)\n",
      " |-- song: string (nullable = true)\n",
      " |-- status: long (nullable = true)\n",
      " |-- ts: long (nullable = true)\n",
      " |-- userAgent: string (nullable = true)\n",
      " |-- userId: string (nullable = true)\n",
      "\n"
     ]
    }
   ],
   "source": [
    "df.printSchema()"
   ]
  },
  {
   "cell_type": "code",
   "execution_count": 15,
   "metadata": {},
   "outputs": [
    {
     "name": "stdout",
     "output_type": "stream",
     "text": [
      "+-------+------------------+\n",
      "|summary|            artist|\n",
      "+-------+------------------+\n",
      "|  count|            228108|\n",
      "|   mean| 551.0852017937219|\n",
      "| stddev|1217.7693079161374|\n",
      "|    min|               !!!|\n",
      "|    max| ÃÂlafur Arnalds|\n",
      "+-------+------------------+\n",
      "\n"
     ]
    }
   ],
   "source": [
    "df.describe(\"artist\").show()"
   ]
  },
  {
   "cell_type": "code",
   "execution_count": 16,
   "metadata": {},
   "outputs": [
    {
     "name": "stdout",
     "output_type": "stream",
     "text": [
      "+-------+-----------------+\n",
      "|summary|           userId|\n",
      "+-------+-----------------+\n",
      "|  count|           286500|\n",
      "|   mean|59682.02278593872|\n",
      "| stddev|109091.9499991047|\n",
      "|    min|                 |\n",
      "|    max|               99|\n",
      "+-------+-----------------+\n",
      "\n"
     ]
    }
   ],
   "source": [
    "df.describe(\"userId\").show()"
   ]
  },
  {
   "cell_type": "code",
   "execution_count": 116,
   "metadata": {},
   "outputs": [
    {
     "name": "stdout",
     "output_type": "stream",
     "text": [
      "+-------+-------+\n",
      "|summary|   page|\n",
      "+-------+-------+\n",
      "|  count| 286500|\n",
      "|   mean|   null|\n",
      "| stddev|   null|\n",
      "|    min|  About|\n",
      "|    max|Upgrade|\n",
      "+-------+-------+\n",
      "\n"
     ]
    }
   ],
   "source": [
    "df.describe(\"page\").show()"
   ]
  },
  {
   "cell_type": "code",
   "execution_count": 10,
   "metadata": {},
   "outputs": [],
   "source": [
    "#create temp view to run query\n",
    "df.createOrReplaceTempView(\"sparkify\")"
   ]
  },
  {
   "cell_type": "code",
   "execution_count": 11,
   "metadata": {},
   "outputs": [
    {
     "name": "stdout",
     "output_type": "stream",
     "text": [
      "+----------------+---------+---------+------+-------------+--------+---------+-----+--------------------+------+--------+-------------+---------+---------+------+-------------+--------------------+------+\n",
      "|          artist|     auth|firstName|gender|itemInSession|lastName|   length|level|            location|method|    page| registration|sessionId|     song|status|           ts|           userAgent|userId|\n",
      "+----------------+---------+---------+------+-------------+--------+---------+-----+--------------------+------+--------+-------------+---------+---------+------+-------------+--------------------+------+\n",
      "|  Martha Tilston|Logged In|    Colin|     M|           50| Freeman|277.89016| paid|     Bakersfield, CA|   PUT|NextSong|1538173362000|       29|Rockpools|   200|1538352117000|Mozilla/5.0 (Wind...|    30|\n",
      "|Five Iron Frenzy|Logged In|    Micah|     M|           79|    Long|236.09424| free|Boston-Cambridge-...|   PUT|NextSong|1538331630000|        8|   Canada|   200|1538352180000|\"Mozilla/5.0 (Win...|     9|\n",
      "+----------------+---------+---------+------+-------------+--------+---------+-----+--------------------+------+--------+-------------+---------+---------+------+-------------+--------------------+------+\n",
      "\n"
     ]
    }
   ],
   "source": [
    "spark.sql(\"SELECT * FROM sparkify LIMIT 2\").show()"
   ]
  },
  {
   "cell_type": "code",
   "execution_count": 13,
   "metadata": {},
   "outputs": [
    {
     "name": "stdout",
     "output_type": "stream",
     "text": [
      "+--------+\n",
      "|count(1)|\n",
      "+--------+\n",
      "|  286500|\n",
      "+--------+\n",
      "\n"
     ]
    }
   ],
   "source": [
    "spark.sql('''\n",
    "          SELECT COUNT(*) \n",
    "          FROM sparkify \n",
    "          '''\n",
    "          ).show()"
   ]
  },
  {
   "cell_type": "code",
   "execution_count": 21,
   "metadata": {},
   "outputs": [
    {
     "name": "stdout",
     "output_type": "stream",
     "text": [
      "+------+----------+---------+------+-------------+--------+------+-----+--------------------+------+-----+-------------+---------+----+------+-------------+--------------------+------+\n",
      "|artist|      auth|firstName|gender|itemInSession|lastName|length|level|            location|method| page| registration|sessionId|song|status|           ts|           userAgent|userId|\n",
      "+------+----------+---------+------+-------------+--------+------+-----+--------------------+------+-----+-------------+---------+----+------+-------------+--------------------+------+\n",
      "|  null|Logged Out|     null|  null|           49|    null|  null| paid|                null|   GET|About|         null|     2383|null|   200|1543583700000|                null|      |\n",
      "|  null|Logged Out|     null|  null|            7|    null|  null| free|                null|   GET|About|         null|     1680|null|   200|1542023877000|                null|      |\n",
      "|  null| Logged In|    Oscar|     M|           58|Williams|  null| paid|        Kankakee, IL|   GET|About|1536855067000|      171|null|   200|1539898503000|Mozilla/5.0 (Wind...|    21|\n",
      "|  null| Logged In|    Colin|     M|           90|  Larson|  null| paid|Dallas-Fort Worth...|   GET|About|1537982255000|      707|null|   200|1539785851000|Mozilla/5.0 (Wind...|   100|\n",
      "|  null| Logged In|    Faigy|     F|          148|    Howe|  null| paid|Phoenix-Mesa-Scot...|   GET|About|1538211832000|      541|null|   200|1539026957000|Mozilla/5.0 (Maci...|    95|\n",
      "|  null|Logged Out|     null|  null|           12|    null|  null| paid|                null|   GET|About|         null|      792|null|   200|1539669903000|                null|      |\n",
      "|  null| Logged In|  Mishael|     M|           13|  Ortega|  null| paid|Los Angeles-Long ...|   GET|About|1540940608000|     2267|null|   200|1543205830000|\"Mozilla/5.0 (iPa...|   152|\n",
      "|  null| Logged In|    Riley|     F|           75|  Taylor|  null| free|Boston-Cambridge-...|   GET|About|1536403972000|     2441|null|   200|1543607621000|\"Mozilla/5.0 (iPa...|    92|\n",
      "|  null| Logged In|   Conley|     M|            9|Johnston|  null| free|Los Angeles-Long ...|   GET|About|1537638755000|      256|null|   200|1541709197000|\"Mozilla/5.0 (Mac...|200019|\n",
      "|  null| Logged In|   Emilia|     F|           46|   House|  null| paid|New York-Newark-J...|   GET|About|1538336771000|      230|null|   200|1540296741000|Mozilla/5.0 (comp...|300011|\n",
      "|  null|Logged Out|     null|  null|           30|    null|  null| free|                null|   GET|About|         null|      439|null|   200|1539023136000|                null|      |\n",
      "|  null| Logged In|  Alyssia|     F|           65|Campbell|  null| paid|           Ionia, MI|   GET|About|1537082511000|       17|null|   200|1538412936000|\"Mozilla/5.0 (Mac...|300017|\n",
      "|  null| Logged In|   Oliver|     M|           30| Gilbert|  null| paid|Philadelphia-Camd...|   GET|About|1535093367000|     1702|null|   200|1541678527000|\"Mozilla/5.0 (Mac...|    81|\n",
      "|  null| Logged In|   Emilia|     F|          188|   House|  null| paid|New York-Newark-J...|   GET|About|1538336771000|       66|null|   200|1538664163000|Mozilla/5.0 (comp...|300011|\n",
      "|  null| Logged In|  Michael|     M|            9|  Miller|  null| paid|Phoenix-Mesa-Scot...|   GET|About|1537014411000|     2121|null|   200|1542823589000|Mozilla/5.0 (Maci...|    60|\n",
      "|  null|Logged Out|     null|  null|          143|    null|  null| paid|                null|   GET|About|         null|      482|null|   200|1543487124000|                null|      |\n",
      "|  null|Logged Out|     null|  null|          321|    null|  null| paid|                null|   GET|About|         null|      737|null|   200|1539327509000|                null|      |\n",
      "|  null| Logged In|    Brisa|     F|            3|  Murray|  null| paid|Manchester-Nashua...|   GET|About|1533438580000|     2031|null|   200|1542665821000|Mozilla/5.0 (comp...|    41|\n",
      "|  null|Logged Out|     null|  null|           57|    null|  null| free|                null|   GET|About|         null|      686|null|   200|1539217341000|                null|      |\n",
      "|  null|Logged Out|     null|  null|           24|    null|  null| free|                null|   GET|About|         null|       64|null|   200|1539052114000|                null|      |\n",
      "+------+----------+---------+------+-------------+--------+------+-----+--------------------+------+-----+-------------+---------+----+------+-------------+--------------------+------+\n",
      "only showing top 20 rows\n",
      "\n"
     ]
    }
   ],
   "source": [
    "#drop duplicates\n",
    "\n",
    "df.select('*').dropDuplicates().sort(\"page\").show()"
   ]
  },
  {
   "cell_type": "code",
   "execution_count": 38,
   "metadata": {},
   "outputs": [
    {
     "name": "stdout",
     "output_type": "stream",
     "text": [
      "root\n",
      " |-- artist: string (nullable = true)\n",
      " |-- auth: string (nullable = true)\n",
      " |-- firstName: string (nullable = true)\n",
      " |-- gender: string (nullable = true)\n",
      " |-- itemInSession: long (nullable = true)\n",
      " |-- lastName: string (nullable = true)\n",
      " |-- length: double (nullable = true)\n",
      " |-- level: string (nullable = true)\n",
      " |-- location: string (nullable = true)\n",
      " |-- method: string (nullable = true)\n",
      " |-- page: string (nullable = true)\n",
      " |-- registration: long (nullable = true)\n",
      " |-- sessionId: long (nullable = true)\n",
      " |-- song: string (nullable = true)\n",
      " |-- status: long (nullable = true)\n",
      " |-- ts: long (nullable = true)\n",
      " |-- userAgent: string (nullable = true)\n",
      " |-- userId: string (nullable = true)\n",
      "\n"
     ]
    }
   ],
   "source": [
    "df.printSchema()"
   ]
  },
  {
   "cell_type": "code",
   "execution_count": 41,
   "metadata": {},
   "outputs": [
    {
     "data": {
      "text/plain": [
       "0"
      ]
     },
     "execution_count": 41,
     "metadata": {},
     "output_type": "execute_result"
    }
   ],
   "source": [
    "#count nulls for artist field\n",
    "df.filter(df.sessionId.isNull()).count()"
   ]
  },
  {
   "cell_type": "code",
   "execution_count": null,
   "metadata": {},
   "outputs": [],
   "source": [
    "df.select([count(when(isnan(c), c)).alias(c) for c in df.columns])"
   ]
  },
  {
   "cell_type": "code",
   "execution_count": 42,
   "metadata": {},
   "outputs": [
    {
     "name": "stdout",
     "output_type": "stream",
     "text": [
      "+------+----+---------+------+-------------+--------+------+-----+--------+------+----+------------+---------+-----+------+---+---------+------+\n",
      "|artist|auth|firstName|gender|itemInSession|lastName|length|level|location|method|page|registration|sessionId| song|status| ts|userAgent|userId|\n",
      "+------+----+---------+------+-------------+--------+------+-----+--------+------+----+------------+---------+-----+------+---+---------+------+\n",
      "| 58392|   0|     8346|  8346|            0|    8346| 58392|    0|    8346|     0|   0|        8346|        0|58392|     0|  0|     8346|     0|\n",
      "+------+----+---------+------+-------------+--------+------+-----+--------+------+----+------------+---------+-----+------+---+---------+------+\n",
      "\n"
     ]
    }
   ],
   "source": [
    "df.select([count(when(isnan(c) | col(c).isNull(), c)).alias(c) for c in df.columns]).show()\n"
   ]
  },
  {
   "cell_type": "code",
   "execution_count": 43,
   "metadata": {},
   "outputs": [],
   "source": [
    "#convert to pandas for better visibility\n",
    "chechnulls = df.select([count(when(isnan(c) | col(c).isNull(), c)).alias(c) for c in df.columns]).toPandas()"
   ]
  },
  {
   "cell_type": "code",
   "execution_count": 45,
   "metadata": {},
   "outputs": [
    {
     "data": {
      "text/html": [
       "<div>\n",
       "<style scoped>\n",
       "    .dataframe tbody tr th:only-of-type {\n",
       "        vertical-align: middle;\n",
       "    }\n",
       "\n",
       "    .dataframe tbody tr th {\n",
       "        vertical-align: top;\n",
       "    }\n",
       "\n",
       "    .dataframe thead th {\n",
       "        text-align: right;\n",
       "    }\n",
       "</style>\n",
       "<table border=\"1\" class=\"dataframe\">\n",
       "  <thead>\n",
       "    <tr style=\"text-align: right;\">\n",
       "      <th></th>\n",
       "      <th>artist</th>\n",
       "      <th>auth</th>\n",
       "      <th>firstName</th>\n",
       "      <th>gender</th>\n",
       "      <th>itemInSession</th>\n",
       "      <th>lastName</th>\n",
       "      <th>length</th>\n",
       "      <th>level</th>\n",
       "      <th>location</th>\n",
       "      <th>method</th>\n",
       "      <th>page</th>\n",
       "      <th>registration</th>\n",
       "      <th>sessionId</th>\n",
       "      <th>song</th>\n",
       "      <th>status</th>\n",
       "      <th>ts</th>\n",
       "      <th>userAgent</th>\n",
       "      <th>userId</th>\n",
       "    </tr>\n",
       "  </thead>\n",
       "  <tbody>\n",
       "    <tr>\n",
       "      <th>0</th>\n",
       "      <td>58392</td>\n",
       "      <td>0</td>\n",
       "      <td>8346</td>\n",
       "      <td>8346</td>\n",
       "      <td>0</td>\n",
       "      <td>8346</td>\n",
       "      <td>58392</td>\n",
       "      <td>0</td>\n",
       "      <td>8346</td>\n",
       "      <td>0</td>\n",
       "      <td>0</td>\n",
       "      <td>8346</td>\n",
       "      <td>0</td>\n",
       "      <td>58392</td>\n",
       "      <td>0</td>\n",
       "      <td>0</td>\n",
       "      <td>8346</td>\n",
       "      <td>0</td>\n",
       "    </tr>\n",
       "  </tbody>\n",
       "</table>\n",
       "</div>"
      ],
      "text/plain": [
       "   artist  auth  firstName  gender  itemInSession  lastName  length  level  \\\n",
       "0   58392     0       8346    8346              0      8346   58392      0   \n",
       "\n",
       "   location  method  page  registration  sessionId   song  status  ts  \\\n",
       "0      8346       0     0          8346          0  58392       0   0   \n",
       "\n",
       "   userAgent  userId  \n",
       "0       8346       0  "
      ]
     },
     "execution_count": 45,
     "metadata": {},
     "output_type": "execute_result"
    }
   ],
   "source": [
    "#count nulls per column\n",
    "chechnulls"
   ]
  },
  {
   "cell_type": "code",
   "execution_count": 145,
   "metadata": {},
   "outputs": [
    {
     "name": "stdout",
     "output_type": "stream",
     "text": [
      "+-------------+-------------------+-------------+-------------------+\n",
      "|           ts|          timestamp| registration|    registration_ts|\n",
      "+-------------+-------------------+-------------+-------------------+\n",
      "|1538352117000|2018-10-01 00:01:57|1538173362000|2018-09-28 22:22:42|\n",
      "|1538352180000|2018-10-01 00:03:00|1538331630000|2018-09-30 18:20:30|\n",
      "|1538352394000|2018-10-01 00:06:34|1538173362000|2018-09-28 22:22:42|\n",
      "|1538352416000|2018-10-01 00:06:56|1538331630000|2018-09-30 18:20:30|\n",
      "|1538352676000|2018-10-01 00:11:16|1538173362000|2018-09-28 22:22:42|\n",
      "+-------------+-------------------+-------------+-------------------+\n",
      "only showing top 5 rows\n",
      "\n"
     ]
    }
   ],
   "source": [
    "#convert timestamp to date\n",
    "def convert_ms(x):\n",
    "    \"\"\"Converts given ns to ms\"\"\"\n",
    "    if x is None:\n",
    "        return None\n",
    "    \n",
    "    return x//1000\n",
    "\n",
    "convert_ms_udf = udf(convert_ms, st.LongType())\n",
    "\n",
    "df = df.withColumn('timestamp', convert_ms_udf(df.ts).cast('timestamp'))\n",
    "df = df.withColumn('registration_ts', convert_ms_udf(df.registration).cast('timestamp'))\n",
    "\n",
    "df.select('ts', 'timestamp', 'registration', 'registration_ts').show(5)"
   ]
  },
  {
   "cell_type": "code",
   "execution_count": 148,
   "metadata": {},
   "outputs": [],
   "source": [
    "cleaned_df = df.dropna(how = \"all\", subset = [\"artist\", \"song\",\"page\"])"
   ]
  },
  {
   "cell_type": "code",
   "execution_count": 151,
   "metadata": {},
   "outputs": [
    {
     "name": "stdout",
     "output_type": "stream",
     "text": [
      "+----------------+---------+---------+------+-------------+--------+---------+-----+--------------------+------+--------+-------------+---------+--------------------+------+-------------+--------------------+------+-------------------+-------------------+\n",
      "|          artist|     auth|firstName|gender|itemInSession|lastName|   length|level|            location|method|    page| registration|sessionId|                song|status|           ts|           userAgent|userId|          timestamp|    registration_ts|\n",
      "+----------------+---------+---------+------+-------------+--------+---------+-----+--------------------+------+--------+-------------+---------+--------------------+------+-------------+--------------------+------+-------------------+-------------------+\n",
      "|  Martha Tilston|Logged In|    Colin|     M|           50| Freeman|277.89016| paid|     Bakersfield, CA|   PUT|NextSong|1538173362000|       29|           Rockpools|   200|1538352117000|Mozilla/5.0 (Wind...|    30|2018-10-01 00:01:57|2018-09-28 22:22:42|\n",
      "|Five Iron Frenzy|Logged In|    Micah|     M|           79|    Long|236.09424| free|Boston-Cambridge-...|   PUT|NextSong|1538331630000|        8|              Canada|   200|1538352180000|\"Mozilla/5.0 (Win...|     9|2018-10-01 00:03:00|2018-09-30 18:20:30|\n",
      "|    Adam Lambert|Logged In|    Colin|     M|           51| Freeman| 282.8273| paid|     Bakersfield, CA|   PUT|NextSong|1538173362000|       29|   Time For Miracles|   200|1538352394000|Mozilla/5.0 (Wind...|    30|2018-10-01 00:06:34|2018-09-28 22:22:42|\n",
      "|          Enigma|Logged In|    Micah|     M|           80|    Long|262.71302| free|Boston-Cambridge-...|   PUT|NextSong|1538331630000|        8|Knocking On Forbi...|   200|1538352416000|\"Mozilla/5.0 (Win...|     9|2018-10-01 00:06:56|2018-09-30 18:20:30|\n",
      "|       Daft Punk|Logged In|    Colin|     M|           52| Freeman|223.60771| paid|     Bakersfield, CA|   PUT|NextSong|1538173362000|       29|Harder Better Fas...|   200|1538352676000|Mozilla/5.0 (Wind...|    30|2018-10-01 00:11:16|2018-09-28 22:22:42|\n",
      "+----------------+---------+---------+------+-------------+--------+---------+-----+--------------------+------+--------+-------------+---------+--------------------+------+-------------+--------------------+------+-------------------+-------------------+\n",
      "only showing top 5 rows\n",
      "\n"
     ]
    }
   ],
   "source": [
    "cleaned_df.show(5)"
   ]
  },
  {
   "cell_type": "markdown",
   "metadata": {},
   "source": [
    "Initially I had removed the nulls if the artists were blank but then we were only left with one Page value. So I had to take out because we will be looking at churn later on. This dataset needs the null values as its significant for further analysis."
   ]
  },
  {
   "cell_type": "code",
   "execution_count": 152,
   "metadata": {},
   "outputs": [
    {
     "name": "stdout",
     "output_type": "stream",
     "text": [
      "+----------+\n",
      "|sum(count)|\n",
      "+----------+\n",
      "|      null|\n",
      "+----------+\n",
      "\n"
     ]
    }
   ],
   "source": [
    "#check for duplicate rows  https://stackoverflow.com/questions/48554619/count-number-of-duplicate-rows-in-sparksql\n",
    "import pyspark.sql.functions  as f\n",
    "\n",
    "cleaned_df.groupBy(cleaned_df.columns)\\\n",
    "    .count()\\\n",
    "    .where(f.col('count') > 1)\\\n",
    "    .select(f.sum('count'))\\\n",
    "    .show()"
   ]
  },
  {
   "cell_type": "code",
   "execution_count": 134,
   "metadata": {},
   "outputs": [],
   "source": [
    "#user interactions\n",
    "usercounts = cleaned_df.toPandas()\n",
    "usercounts2 = usercounts.groupby('userId').count()\n",
    "usercounts2 = usercounts2.reset_index()\n"
   ]
  },
  {
   "cell_type": "code",
   "execution_count": 135,
   "metadata": {},
   "outputs": [
    {
     "data": {
      "image/png": "[encoded data removed]",
      "text/plain": [
       "<matplotlib.figure.Figure at 0x7f9532796780>"
      ]
     },
     "metadata": {},
     "output_type": "display_data"
    }
   ],
   "source": [
    "plt.figure()\n",
    "plt.hist(usercounts2.sessionId.values)\n",
    "plt.title('Number of interactions per user')\n",
    "plt.xlabel('interactions')\n",
    "plt.ylabel('count')\n",
    "plt.show()"
   ]
  },
  {
   "cell_type": "code",
   "execution_count": 136,
   "metadata": {},
   "outputs": [
    {
     "data": {
      "text/html": [
       "<div>\n",
       "<style scoped>\n",
       "    .dataframe tbody tr th:only-of-type {\n",
       "        vertical-align: middle;\n",
       "    }\n",
       "\n",
       "    .dataframe tbody tr th {\n",
       "        vertical-align: top;\n",
       "    }\n",
       "\n",
       "    .dataframe thead th {\n",
       "        text-align: right;\n",
       "    }\n",
       "</style>\n",
       "<table border=\"1\" class=\"dataframe\">\n",
       "  <thead>\n",
       "    <tr style=\"text-align: right;\">\n",
       "      <th></th>\n",
       "      <th>count</th>\n",
       "    </tr>\n",
       "    <tr>\n",
       "      <th>artist</th>\n",
       "      <th></th>\n",
       "    </tr>\n",
       "  </thead>\n",
       "  <tbody>\n",
       "    <tr>\n",
       "      <th>NaN</th>\n",
       "      <td>58392</td>\n",
       "    </tr>\n",
       "    <tr>\n",
       "      <th>Kings Of Leon</th>\n",
       "      <td>1841</td>\n",
       "    </tr>\n",
       "    <tr>\n",
       "      <th>Coldplay</th>\n",
       "      <td>1813</td>\n",
       "    </tr>\n",
       "    <tr>\n",
       "      <th>Florence + The Machine</th>\n",
       "      <td>1236</td>\n",
       "    </tr>\n",
       "    <tr>\n",
       "      <th>Dwight Yoakam</th>\n",
       "      <td>1135</td>\n",
       "    </tr>\n",
       "    <tr>\n",
       "      <th>BjÃÂ¶rk</th>\n",
       "      <td>1133</td>\n",
       "    </tr>\n",
       "    <tr>\n",
       "      <th>The Black Keys</th>\n",
       "      <td>1125</td>\n",
       "    </tr>\n",
       "    <tr>\n",
       "      <th>Muse</th>\n",
       "      <td>1090</td>\n",
       "    </tr>\n",
       "    <tr>\n",
       "      <th>Justin Bieber</th>\n",
       "      <td>1044</td>\n",
       "    </tr>\n",
       "    <tr>\n",
       "      <th>Jack Johnson</th>\n",
       "      <td>1007</td>\n",
       "    </tr>\n",
       "  </tbody>\n",
       "</table>\n",
       "</div>"
      ],
      "text/plain": [
       "                        count\n",
       "artist                       \n",
       "NaN                     58392\n",
       "Kings Of Leon            1841\n",
       "Coldplay                 1813\n",
       "Florence + The Machine   1236\n",
       "Dwight Yoakam            1135\n",
       "BjÃÂ¶rk                 1133\n",
       "The Black Keys           1125\n",
       "Muse                     1090\n",
       "Justin Bieber            1044\n",
       "Jack Johnson             1007"
      ]
     },
     "execution_count": 136,
     "metadata": {},
     "output_type": "execute_result"
    }
   ],
   "source": [
    "most_listened_artists = cleaned_df.groupby('artist').count().sort('count', ascending=False).toPandas().set_index('artist')\n",
    "most_listened_artists.head(10)"
   ]
  },
  {
   "cell_type": "markdown",
   "metadata": {},
   "source": [
    "Kings of Leon is the highest listened to artist! "
   ]
  },
  {
   "cell_type": "code",
   "execution_count": 137,
   "metadata": {},
   "outputs": [
    {
     "data": {
      "text/html": [
       "<div>\n",
       "<style scoped>\n",
       "    .dataframe tbody tr th:only-of-type {\n",
       "        vertical-align: middle;\n",
       "    }\n",
       "\n",
       "    .dataframe tbody tr th {\n",
       "        vertical-align: top;\n",
       "    }\n",
       "\n",
       "    .dataframe thead th {\n",
       "        text-align: right;\n",
       "    }\n",
       "</style>\n",
       "<table border=\"1\" class=\"dataframe\">\n",
       "  <thead>\n",
       "    <tr style=\"text-align: right;\">\n",
       "      <th></th>\n",
       "      <th>count</th>\n",
       "    </tr>\n",
       "    <tr>\n",
       "      <th>song</th>\n",
       "      <th></th>\n",
       "    </tr>\n",
       "  </thead>\n",
       "  <tbody>\n",
       "    <tr>\n",
       "      <th>NaN</th>\n",
       "      <td>58392</td>\n",
       "    </tr>\n",
       "    <tr>\n",
       "      <th>You're The One</th>\n",
       "      <td>1153</td>\n",
       "    </tr>\n",
       "    <tr>\n",
       "      <th>Undo</th>\n",
       "      <td>1026</td>\n",
       "    </tr>\n",
       "    <tr>\n",
       "      <th>Revelry</th>\n",
       "      <td>854</td>\n",
       "    </tr>\n",
       "    <tr>\n",
       "      <th>Sehr kosmisch</th>\n",
       "      <td>728</td>\n",
       "    </tr>\n",
       "    <tr>\n",
       "      <th>Horn Concerto No. 4 in E flat K495: II. Romance (Andante cantabile)</th>\n",
       "      <td>641</td>\n",
       "    </tr>\n",
       "    <tr>\n",
       "      <th>Dog Days Are Over (Radio Edit)</th>\n",
       "      <td>574</td>\n",
       "    </tr>\n",
       "    <tr>\n",
       "      <th>Secrets</th>\n",
       "      <td>466</td>\n",
       "    </tr>\n",
       "    <tr>\n",
       "      <th>Use Somebody</th>\n",
       "      <td>459</td>\n",
       "    </tr>\n",
       "    <tr>\n",
       "      <th>Canada</th>\n",
       "      <td>435</td>\n",
       "    </tr>\n",
       "  </tbody>\n",
       "</table>\n",
       "</div>"
      ],
      "text/plain": [
       "                                                    count\n",
       "song                                                     \n",
       "NaN                                                 58392\n",
       "You're The One                                       1153\n",
       "Undo                                                 1026\n",
       "Revelry                                               854\n",
       "Sehr kosmisch                                         728\n",
       "Horn Concerto No. 4 in E flat K495: II. Romance...    641\n",
       "Dog Days Are Over (Radio Edit)                        574\n",
       "Secrets                                               466\n",
       "Use Somebody                                          459\n",
       "Canada                                                435"
      ]
     },
     "execution_count": 137,
     "metadata": {},
     "output_type": "execute_result"
    }
   ],
   "source": [
    "most_listened_songs = cleaned_df.groupby('song').count().sort('count', ascending=False).toPandas().set_index('song')\n",
    "most_listened_songs.head(10)"
   ]
  },
  {
   "cell_type": "markdown",
   "metadata": {},
   "source": [
    "You're the one is the most listened to song"
   ]
  },
  {
   "cell_type": "markdown",
   "metadata": {},
   "source": [
    "# Exploratory Data Analysis\n",
    "When you're working with the full dataset, perform EDA by loading a small subset of the data and doing basic manipulations within Spark. In this workspace, you are already provided a small subset of data you can explore.\n",
    "\n",
    "### Define Churn\n",
    "\n",
    "Once you've done some preliminary analysis, create a column `Churn` to use as the label for your model. I suggest using the `Cancellation Confirmation` events to define your churn, which happen for both paid and free users. As a bonus task, you can also look into the `Downgrade` events.\n",
    "\n",
    "### Explore Data\n",
    "Once you've defined churn, perform some exploratory data analysis to observe the behavior for users who stayed vs users who churned. You can start by exploring aggregates on these two groups of users, observing how much of a specific action they experienced per a certain time unit or number of songs played."
   ]
  },
  {
   "cell_type": "code",
   "execution_count": 167,
   "metadata": {},
   "outputs": [
    {
     "name": "stdout",
     "output_type": "stream",
     "text": [
      "+--------------------+-------------------+------+---------+-----+\n",
      "|                page|          timestamp|userId|sessionId|level|\n",
      "+--------------------+-------------------+------+---------+-----+\n",
      "|Cancellation Conf...|2018-10-07 20:26:30|    18|      514| paid|\n",
      "|Cancellation Conf...|2018-10-08 21:10:46|    32|      540| paid|\n",
      "|Cancellation Conf...|2018-10-12 04:35:18|   125|      174| free|\n",
      "|Cancellation Conf...|2018-10-12 20:17:21|   105|      508| paid|\n",
      "|Cancellation Conf...|2018-10-13 21:19:44|    17|      797| paid|\n",
      "|Cancellation Conf...|2018-10-15 07:34:14|   143|      843| free|\n",
      "|Cancellation Conf...|2018-10-16 22:30:37|   101|      842| paid|\n",
      "|Cancellation Conf...|2018-10-17 00:29:21|   129|      802| paid|\n",
      "|Cancellation Conf...|2018-10-17 07:02:29|   121|      881| paid|\n",
      "|Cancellation Conf...|2018-10-17 07:39:32|    51|      934| paid|\n",
      "+--------------------+-------------------+------+---------+-----+\n",
      "only showing top 10 rows\n",
      "\n"
     ]
    }
   ],
   "source": [
    "cleaned_df.where(cleaned_df.page=='Cancellation Confirmation').select(['page', 'timestamp', 'userId', 'sessionId', 'level']).show(10)"
   ]
  },
  {
   "cell_type": "code",
   "execution_count": 168,
   "metadata": {},
   "outputs": [
    {
     "name": "stdout",
     "output_type": "stream",
     "text": [
      "+-------------------+--------------------+---------+-----+\n",
      "|          timestamp|                page|sessionId|level|\n",
      "+-------------------+--------------------+---------+-----+\n",
      "|2018-10-12 04:05:44|            NextSong|      174| free|\n",
      "|2018-10-12 04:11:21|            NextSong|      174| free|\n",
      "|2018-10-12 04:15:11|            NextSong|      174| free|\n",
      "|2018-10-12 04:18:34|            NextSong|      174| free|\n",
      "|2018-10-12 04:22:04|            NextSong|      174| free|\n",
      "|2018-10-12 04:28:35|            NextSong|      174| free|\n",
      "|2018-10-12 04:32:08|            NextSong|      174| free|\n",
      "|2018-10-12 04:35:06|            NextSong|      174| free|\n",
      "|2018-10-12 04:35:17|         Roll Advert|      174| free|\n",
      "|2018-10-12 04:35:18|              Cancel|      174| free|\n",
      "|2018-10-12 04:35:18|Cancellation Conf...|      174| free|\n",
      "+-------------------+--------------------+---------+-----+\n",
      "\n"
     ]
    }
   ],
   "source": [
    "cleaned_df.where((cleaned_df.userId==125) &\n",
    "         (cleaned_df.timestamp>'2018-10-12 04:00:18')).sort('ts').select('timestamp', 'page','sessionId', 'level').show()"
   ]
  },
  {
   "cell_type": "markdown",
   "metadata": {},
   "source": [
    "The last session was Cancellation confirmation. "
   ]
  },
  {
   "cell_type": "code",
   "execution_count": 169,
   "metadata": {},
   "outputs": [
    {
     "name": "stdout",
     "output_type": "stream",
     "text": [
      "+-------------------+--------------------+---------+-----+\n",
      "|          timestamp|                page|sessionId|level|\n",
      "+-------------------+--------------------+---------+-----+\n",
      "|2018-10-08 21:03:28|            NextSong|      540| paid|\n",
      "|2018-10-08 21:05:41|            NextSong|      540| paid|\n",
      "|2018-10-08 21:09:38|            NextSong|      540| paid|\n",
      "|2018-10-08 21:10:30|           Downgrade|      540| paid|\n",
      "|2018-10-08 21:10:31|              Cancel|      540| paid|\n",
      "|2018-10-08 21:10:46|Cancellation Conf...|      540| paid|\n",
      "+-------------------+--------------------+---------+-----+\n",
      "\n"
     ]
    }
   ],
   "source": [
    "#look at a paid member cancelled\n",
    "cleaned_df.where((cleaned_df.userId==32) &\n",
    "         (cleaned_df.timestamp>'2018-10-08 21:00:46')).sort('ts').select('timestamp', 'page','sessionId', 'level').show()"
   ]
  },
  {
   "cell_type": "markdown",
   "metadata": {},
   "source": [
    "The last session was Cancellation confirmation. "
   ]
  },
  {
   "cell_type": "code",
   "execution_count": 257,
   "metadata": {},
   "outputs": [
    {
     "name": "stdout",
     "output_type": "stream",
     "text": [
      "+------+-------------------+-------------------+-------------------+---+---+\n",
      "|userId|            maxTime|      DowngradeTime|         cancelTime|  c|  n|\n",
      "+------+-------------------+-------------------+-------------------+---+---+\n",
      "|    87|2018-10-20 15:49:16|2018-10-20 15:48:57|2018-10-20 15:49:16|  1|  2|\n",
      "|    73|2018-10-24 17:33:07|2018-10-24 17:32:18|2018-10-24 17:33:07|  1|  2|\n",
      "|300004|2018-11-14 22:41:25|2018-11-14 19:49:25|               null|  1|  2|\n",
      "|    44|2018-10-31 11:19:34|2018-10-30 18:06:15|               null|  1|  2|\n",
      "+------+-------------------+-------------------+-------------------+---+---+\n",
      "\n"
     ]
    }
   ],
   "source": [
    "cleaned_df.registerTempTable('check')\n",
    "spark.sql(\n",
    "    'SELECT userId, \\\n",
    "    max(timestamp) as maxTime, \\\n",
    "    max(case when  page=\"Downgrade\" then timestamp end) as DowngradeTime,\\\n",
    "    max(case when  page=\"Cancellation Confirmation\" then timestamp end) as cancelTime,\\\n",
    "    sum(case when page=\"Downgrade\" then 1 else 0 end) as c, \\\n",
    "    count(DISTINCT  level) AS n \\\n",
    "    FROM check \\\n",
    "    group by userId \\\n",
    "    having c=1 and n>1').show()"
   ]
  },
  {
   "cell_type": "markdown",
   "metadata": {},
   "source": [
    "We want to look at the users that have downgraded but not yet cancelled and verify in the range of Downgrade Time that they switched from paid to free"
   ]
  },
  {
   "cell_type": "code",
   "execution_count": 258,
   "metadata": {
    "scrolled": true
   },
   "outputs": [
    {
     "name": "stdout",
     "output_type": "stream",
     "text": [
      "+-------------------+----------------+---------+-----+\n",
      "|          timestamp|            page|sessionId|level|\n",
      "+-------------------+----------------+---------+-----+\n",
      "|2018-11-14 19:48:38|        NextSong|      267| paid|\n",
      "|2018-11-14 19:49:25|       Downgrade|      267| paid|\n",
      "|2018-11-14 19:49:26|Submit Downgrade|      267| paid|\n",
      "|2018-11-14 19:49:34|            Home|      267| free|\n",
      "|2018-11-14 19:52:03|        NextSong|      267| free|\n",
      "+-------------------+----------------+---------+-----+\n",
      "\n"
     ]
    }
   ],
   "source": [
    "cleaned_df.where((cleaned_df.userId==300004) & \n",
    "         (df.timestamp>'2018-11-14 19:45:25') & \n",
    "         (df.timestamp<'2018-11-14 19:55:25')).sort('ts').select('timestamp', 'page','sessionId', 'level').show()"
   ]
  },
  {
   "cell_type": "markdown",
   "metadata": {},
   "source": [
    "Therefore any user with Submit Downgrade or Cancellation Confirmation has Churned. However this project only asks to look at Cancellation Confirmation as primary objective"
   ]
  },
  {
   "cell_type": "code",
   "execution_count": 259,
   "metadata": {},
   "outputs": [],
   "source": [
    "#filter for cancellation confirmation page and get all the users\n",
    "churned = cleaned_df.where(cleaned_df.page=='Cancellation Confirmation').select('userId').toPandas().userId.tolist()\n",
    "#put those users as values in churn to create a column Churn which would be a flag\n",
    "cleaned_df = cleaned_df.withColumn('churn', cleaned_df.userId.isin(churned))"
   ]
  },
  {
   "cell_type": "code",
   "execution_count": 287,
   "metadata": {},
   "outputs": [
    {
     "data": {
      "text/html": [
       "<div>\n",
       "<style scoped>\n",
       "    .dataframe tbody tr th:only-of-type {\n",
       "        vertical-align: middle;\n",
       "    }\n",
       "\n",
       "    .dataframe tbody tr th {\n",
       "        vertical-align: top;\n",
       "    }\n",
       "\n",
       "    .dataframe thead th {\n",
       "        text-align: right;\n",
       "    }\n",
       "</style>\n",
       "<table border=\"1\" class=\"dataframe\">\n",
       "  <thead>\n",
       "    <tr style=\"text-align: right;\">\n",
       "      <th></th>\n",
       "      <th>churn</th>\n",
       "      <th>user_count</th>\n",
       "      <th>session_count</th>\n",
       "    </tr>\n",
       "  </thead>\n",
       "  <tbody>\n",
       "    <tr>\n",
       "      <th>0</th>\n",
       "      <td>True</td>\n",
       "      <td>52</td>\n",
       "      <td>468</td>\n",
       "    </tr>\n",
       "    <tr>\n",
       "      <th>1</th>\n",
       "      <td>False</td>\n",
       "      <td>174</td>\n",
       "      <td>2283</td>\n",
       "    </tr>\n",
       "  </tbody>\n",
       "</table>\n",
       "</div>"
      ],
      "text/plain": [
       "   churn  user_count  session_count\n",
       "0   True          52            468\n",
       "1  False         174           2283"
      ]
     },
     "execution_count": 287,
     "metadata": {},
     "output_type": "execute_result"
    }
   ],
   "source": [
    "churn_counts = cleaned_df.groupby('churn').agg(countDistinct('userId'), countDistinct('sessionId')).toPandas()\n",
    "churn_counts.columns = ['churn', 'user_count', 'session_count']\n",
    "churn_counts"
   ]
  },
  {
   "cell_type": "code",
   "execution_count": 263,
   "metadata": {},
   "outputs": [],
   "source": [
    "chart_df = cleaned_df.toPandas()"
   ]
  },
  {
   "cell_type": "code",
   "execution_count": 268,
   "metadata": {},
   "outputs": [
    {
     "data": {
      "text/plain": [
       "artist                     object\n",
       "auth                       object\n",
       "firstName                  object\n",
       "gender                     object\n",
       "itemInSession               int64\n",
       "lastName                   object\n",
       "length                    float64\n",
       "level                      object\n",
       "location                   object\n",
       "method                     object\n",
       "page                       object\n",
       "registration              float64\n",
       "sessionId                   int64\n",
       "song                       object\n",
       "status                      int64\n",
       "ts                          int64\n",
       "userAgent                  object\n",
       "userId                     object\n",
       "timestamp          datetime64[ns]\n",
       "registration_ts    datetime64[ns]\n",
       "churn                        bool\n",
       "dtype: object"
      ]
     },
     "execution_count": 268,
     "metadata": {},
     "output_type": "execute_result"
    }
   ],
   "source": [
    "chart_df.dtypes"
   ]
  },
  {
   "cell_type": "code",
   "execution_count": 271,
   "metadata": {},
   "outputs": [],
   "source": [
    "import pandas as pd\n",
    "chart_df['timestamp'] = pd.to_datetime(chart_df['timestamp'])\n",
    "chart_df['timestamp'] = pd.to_datetime(chart_df['timestamp'])"
   ]
  },
  {
   "cell_type": "code",
   "execution_count": 276,
   "metadata": {},
   "outputs": [
    {
     "data": {
      "image/png": "[encoded data removed]",
      "text/plain": [
       "<matplotlib.figure.Figure at 0x7f95352a5b00>"
      ]
     },
     "metadata": {},
     "output_type": "display_data"
    }
   ],
   "source": [
    "chart_df.groupby(chart_df['timestamp'].dt.to_period(\"D\")).sum()['churn'].plot(label='No.of Churns')\n",
    "plt.legend()\n",
    "plt.title('Number of Churns Per Day');"
   ]
  },
  {
   "cell_type": "markdown",
   "metadata": {},
   "source": [
    "The churns have decreased significantly through time. This is an amazing sign that the business is doing well in retaining customers!"
   ]
  },
  {
   "cell_type": "code",
   "execution_count": 281,
   "metadata": {},
   "outputs": [
    {
     "data": {
      "image/png": "[encoded data removed]",
      "text/plain": [
       "<matplotlib.figure.Figure at 0x7f954adee588>"
      ]
     },
     "metadata": {},
     "output_type": "display_data"
    }
   ],
   "source": [
    "chart_level_paid = chart_df[chart_df['level']=='paid']\n",
    "chart_level_free = chart_df[chart_df['level']=='free']\n",
    "chart_level_paid.groupby(chart_level_paid['timestamp'].dt.to_period(\"D\")).count()['userId'].plot(label='No.of Paid Users')\n",
    "chart_level_free.groupby(chart_level_free['timestamp'].dt.to_period(\"D\")).count()['userId'].plot(label='No.of Free Users')\n",
    "chart_df.groupby(chart_df['timestamp'].dt.to_period(\"D\")).sum()['churn'].plot(label='No.of Churns')\n",
    "\n",
    "\n",
    "plt.legend()\n",
    "plt.title('Number of Users Per Day');"
   ]
  },
  {
   "cell_type": "markdown",
   "metadata": {},
   "source": [
    "This chart shows the free users, paid users and churned users. We can see that after Nov 12 - the churn reduce and the retention of users is stable."
   ]
  },
  {
   "cell_type": "code",
   "execution_count": 295,
   "metadata": {},
   "outputs": [],
   "source": [
    "chart_df2 = chart_df.copy()\n",
    "chart_df3 = chart_df2.groupby(['page','churn']).agg({'sessionId':'nunique'})\n",
    "chart_df3= chart_df3.reset_index()\n"
   ]
  },
  {
   "cell_type": "code",
   "execution_count": 312,
   "metadata": {},
   "outputs": [
    {
     "data": {
      "image/png": "[encoded data removed]",
      "text/plain": [
       "<matplotlib.figure.Figure at 0x7f95378f9ba8>"
      ]
     },
     "metadata": {},
     "output_type": "display_data"
    }
   ],
   "source": [
    "plt.figure(figsize=(12,10))\n",
    "sns.barplot(x='page',\n",
    "            y='sessionId',\n",
    "            hue='churn',\n",
    "            data=chart_df3)\n",
    "plt.xticks(rotation=30, ha=\"right\")\n",
    "plt.title('Number of Sessions Per Page');"
   ]
  },
  {
   "cell_type": "markdown",
   "metadata": {},
   "source": [
    "Most of the churns have much lower sessions compared to the latter. It also looks like these churns occur in NextSong page and Home page. However, theres also churns occuring at Thumbs up which I found weird. I think although the churns occured at these pages, the cause was for another reason. For example, during nextSong could be when the roll advert occurs so some people churn during the ad but others churn after the ad on on the nextSong page. "
   ]
  },
  {
   "cell_type": "code",
   "execution_count": 307,
   "metadata": {},
   "outputs": [],
   "source": [
    "chart_df4 = chart_df.copy()\n",
    "chart_df4 = chart_df4[chart_df4['page']=='Roll Advert']\n",
    "chart_df4['Week_Number'] = chart_df4['timestamp'].dt.week\n",
    "chart_df5 = chart_df4.groupby(['Week_Number','churn']).agg({'sessionId':'nunique'})\n",
    "chart_df5= chart_df5.reset_index()\n"
   ]
  },
  {
   "cell_type": "code",
   "execution_count": 311,
   "metadata": {},
   "outputs": [
    {
     "data": {
      "image/png": "[encoded data removed]",
      "text/plain": [
       "<matplotlib.figure.Figure at 0x7f95124ba860>"
      ]
     },
     "metadata": {},
     "output_type": "display_data"
    }
   ],
   "source": [
    "plt.figure(figsize=(12,10))\n",
    "sns.barplot(x='Week_Number',\n",
    "            y='sessionId',\n",
    "            hue='churn',\n",
    "            data=chart_df5)\n",
    "plt.xticks(rotation=30, ha=\"right\")\n",
    "plt.title('Number of Sessions per Week in Advertisments Page');"
   ]
  },
  {
   "cell_type": "markdown",
   "metadata": {},
   "source": [
    "The churn sessions are low in advertisements per week overtime"
   ]
  },
  {
   "cell_type": "code",
   "execution_count": 315,
   "metadata": {},
   "outputs": [],
   "source": [
    "chart_df4 = chart_df.copy()\n",
    "chart_df4 = chart_df4[chart_df4['page']=='NextSong']\n",
    "chart_df4['Week_Number'] = chart_df4['timestamp'].dt.week\n",
    "chart_df5 = chart_df4.groupby(['Week_Number','churn']).agg({'sessionId':'nunique'})\n",
    "chart_df5= chart_df5.reset_index()\n"
   ]
  },
  {
   "cell_type": "code",
   "execution_count": 316,
   "metadata": {},
   "outputs": [
    {
     "data": {
      "image/png": "[encoded data removed]",
      "text/plain": [
       "<matplotlib.figure.Figure at 0x7f9539a98940>"
      ]
     },
     "metadata": {},
     "output_type": "display_data"
    }
   ],
   "source": [
    "plt.figure(figsize=(12,10))\n",
    "sns.barplot(x='Week_Number',\n",
    "            y='sessionId',\n",
    "            hue='churn',\n",
    "            data=chart_df5)\n",
    "plt.xticks(rotation=30, ha=\"right\")\n",
    "plt.title('Number of Sessions per Week in NextSong Page');"
   ]
  },
  {
   "cell_type": "markdown",
   "metadata": {},
   "source": [
    "This also shows the same trend as the chart before when we looked at advertisements. There are almost no chars in the second last week. "
   ]
  },
  {
   "cell_type": "markdown",
   "metadata": {},
   "source": [
    "## CONCLUSION\n",
    "\n",
    "Overall, we know the the churns are going down based on the first graphs. Also the user who churn are not using the app as much compared to users that are there. People are really liking the app and we can see this in the week by week decrease in churn sessions. "
   ]
  },
  {
   "cell_type": "markdown",
   "metadata": {},
   "source": [
    "# Feature Engineering\n",
    "Once you've familiarized yourself with the data, build out the features you find promising to train your model on. To work with the full dataset, you can follow the following steps.\n",
    "- Write a script to extract the necessary features from the smaller subset of data\n",
    "- Ensure that your script is scalable, using the best practices discussed in Lesson 3\n",
    "- Try your script on the full data set, debugging your script if necessary\n",
    "\n",
    "If you are working in the classroom workspace, you can just extract features based on the small subset of data contained here. Be sure to transfer over this work to the larger dataset when you work on your Spark cluster."
   ]
  },
  {
   "cell_type": "code",
   "execution_count": 318,
   "metadata": {},
   "outputs": [],
   "source": [
    "\n",
    "def convert_ms(x):\n",
    "    \"\"\"Converts given ns to ms\"\"\"\n",
    "    if x is None:\n",
    "        return None\n",
    "    \n",
    "    return x//1000\n",
    "\n",
    "convert_ms_udf = udf(convert_ms, st.LongType())"
   ]
  },
  {
   "cell_type": "code",
   "execution_count": 321,
   "metadata": {},
   "outputs": [],
   "source": [
    "def clean_df(df):\n",
    "    \"\"\"\n",
    "    Takes in a raw events dataframe, makes a few extra columns and cleans it.\n",
    "    \"\"\"\n",
    "    \n",
    "    # Remove bad userIds\n",
    "    cleaned_df = df.filter(df.userId != \"\")\n",
    "    cleaned_df.persist()\n",
    "    \n",
    "    # Clean time columns\n",
    "    cleaned_df = cleaned_df.withColumn('timestamp', convert_ms_udf(cleaned_df.ts).cast('timestamp'))\n",
    "    cleaned_df = cleaned_df.withColumn('registration_ts', convert_ms_udf(cleaned_df.registration).cast('timestamp'))\n",
    "    \n",
    "    return df\n"
   ]
  },
  {
   "cell_type": "code",
   "execution_count": 323,
   "metadata": {},
   "outputs": [],
   "source": [
    "# after reading in the df just running this cell catches up with the exploration\n",
    "cleaned_df = clean_df(df)\n",
    "\n",
    "pages = df.select('page').distinct().sort('page')\n",
    "pages_list = [r.page for r in pages.collect()]"
   ]
  },
  {
   "cell_type": "markdown",
   "metadata": {},
   "source": [
    "Feature 1 = Count of SessionIds"
   ]
  },
  {
   "cell_type": "code",
   "execution_count": 325,
   "metadata": {},
   "outputs": [],
   "source": [
    "sessions = cleaned_df.groupby('userId').agg(countDistinct('sessionId').alias('session_count'))\n"
   ]
  },
  {
   "cell_type": "markdown",
   "metadata": {},
   "source": [
    "Feature 2 = Count of Songs per Week"
   ]
  },
  {
   "cell_type": "code",
   "execution_count": 332,
   "metadata": {},
   "outputs": [],
   "source": [
    "songs = cleaned_df.where(cleaned_df.page=='NextSong') \\\n",
    "                .groupby('userId', date_trunc('week', 'timestamp').cast('date').alias('week')).count() \\\n",
    "                .groupby('userId').pivot('week').sum().fillna(0)"
   ]
  },
  {
   "cell_type": "markdown",
   "metadata": {},
   "source": [
    "Feature 3 = Gender"
   ]
  },
  {
   "cell_type": "code",
   "execution_count": 333,
   "metadata": {},
   "outputs": [],
   "source": [
    "genders = cleaned_df.select('userId', when(col('gender')=='F', 0).otherwise(1).alias('genders')).distinct()\n"
   ]
  },
  {
   "cell_type": "code",
   "execution_count": 387,
   "metadata": {},
   "outputs": [],
   "source": [
    "def feature_df(df):\n",
    "    \"\"\"Takes in a cleaned dataframe and returns a feature dataframe\"\"\"\n",
    "    \n",
    "    # List of columns to include in the vector\n",
    "    vector_cols = []\n",
    "    \n",
    "    # Session counts\n",
    "    session_counts = cleaned_df.groupby('userId').agg(countDistinct('sessionId').alias('session_count'))\n",
    "    vector_cols.append('session_count')\n",
    "    \n",
    "    # Page list and events to ignore\n",
    "    pages_list = [r.page for r in pages.collect()]\n",
    "    drop_events = ['Cancel']\n",
    "    \n",
    "    # Get page counts per userId\n",
    "    df_feature = cleaned_df.groupby('userId').pivot('page', pages_list).count()\n",
    "    df_feature = df_feature.withColumnRenamed('Cancellation Confirmation', 'label')\n",
    "    df_feature = df_feature.drop(*drop_events).fillna(0)\n",
    "    \n",
    "    df_feature = df_feature.join(session_counts, on='userId')\n",
    " \n",
    "    # Week song counts\n",
    "    songs = cleaned_df.where(cleaned_df.page=='NextSong') \\\n",
    "                .groupby('userId', date_trunc('week', 'timestamp').cast('date').alias('week')).count() \\\n",
    "                .groupby('userId').pivot('week').sum().fillna(0)\n",
    "    \n",
    "    vector_cols.extend(week_counts.columns[1:])\n",
    "    #joining the session counts and week counts\n",
    "    df_feature = df_feature.join(week_counts, on='userId')\n",
    "    \n",
    "    # Get genders\n",
    "    genders = cleaned_df.select('userId', when(col('gender')=='F', 0).otherwise(1).alias('genders')).distinct()\n",
    "    \n",
    "    vector_cols.append('genders')\n",
    "    \n",
    "    #join our main dataframe with genders to add in those values\n",
    "    df_feature = df_feature.join(genders, on='userId')\n",
    "    \n",
    "    # Assemble the vector\n",
    "    assembler = VectorAssembler(inputCols=vector_cols, outputCol='features')\n",
    "    \n",
    "    return assembler.transform(df_feature)"
   ]
  },
  {
   "cell_type": "code",
   "execution_count": 388,
   "metadata": {},
   "outputs": [],
   "source": [
    "feature_df_main = feature_df(df)\n"
   ]
  },
  {
   "cell_type": "code",
   "execution_count": 389,
   "metadata": {},
   "outputs": [
    {
     "name": "stdout",
     "output_type": "stream",
     "text": [
      "root\n",
      " |-- userId: string (nullable = true)\n",
      " |-- About: long (nullable = true)\n",
      " |-- Add Friend: long (nullable = true)\n",
      " |-- Add to Playlist: long (nullable = true)\n",
      " |-- label: long (nullable = true)\n",
      " |-- Downgrade: long (nullable = true)\n",
      " |-- Error: long (nullable = true)\n",
      " |-- Help: long (nullable = true)\n",
      " |-- Home: long (nullable = true)\n",
      " |-- Login: long (nullable = true)\n",
      " |-- Logout: long (nullable = true)\n",
      " |-- NextSong: long (nullable = true)\n",
      " |-- Register: long (nullable = true)\n",
      " |-- Roll Advert: long (nullable = true)\n",
      " |-- Save Settings: long (nullable = true)\n",
      " |-- Settings: long (nullable = true)\n",
      " |-- Submit Downgrade: long (nullable = true)\n",
      " |-- Submit Registration: long (nullable = true)\n",
      " |-- Submit Upgrade: long (nullable = true)\n",
      " |-- Thumbs Down: long (nullable = true)\n",
      " |-- Thumbs Up: long (nullable = true)\n",
      " |-- Upgrade: long (nullable = true)\n",
      " |-- session_count: long (nullable = false)\n",
      " |-- 2018-10-01: long (nullable = true)\n",
      " |-- 2018-10-08: long (nullable = true)\n",
      " |-- 2018-10-15: long (nullable = true)\n",
      " |-- 2018-10-22: long (nullable = true)\n",
      " |-- 2018-10-29: long (nullable = true)\n",
      " |-- 2018-11-05: long (nullable = true)\n",
      " |-- 2018-11-12: long (nullable = true)\n",
      " |-- 2018-11-19: long (nullable = true)\n",
      " |-- 2018-11-26: long (nullable = true)\n",
      " |-- 2018-12-03: long (nullable = true)\n",
      " |-- genders: integer (nullable = false)\n",
      " |-- features: vector (nullable = true)\n",
      "\n"
     ]
    }
   ],
   "source": [
    "feature_df_main.printSchema()\n"
   ]
  },
  {
   "cell_type": "code",
   "execution_count": 382,
   "metadata": {},
   "outputs": [
    {
     "data": {
      "text/plain": [
       "278154"
      ]
     },
     "execution_count": 382,
     "metadata": {},
     "output_type": "execute_result"
    }
   ],
   "source": [
    "#count how many features we have\n",
    "feature_df_main.select('features').count()\n"
   ]
  },
  {
   "cell_type": "markdown",
   "metadata": {},
   "source": [
    "# Modeling\n",
    "Split the full dataset into train, test, and validation sets. Test out several of the machine learning methods you learned. Evaluate the accuracy of the various models, tuning parameters as necessary. Determine your winning model based on test accuracy and report results on the validation set. Since the churned users are a fairly small subset, I suggest using F1 score as the metric to optimize."
   ]
  },
  {
   "cell_type": "code",
   "execution_count": 390,
   "metadata": {},
   "outputs": [],
   "source": [
    "train, test = feature_df_main.randomSplit([0.8, 0.2], seed=42)\n"
   ]
  },
  {
   "cell_type": "code",
   "execution_count": 403,
   "metadata": {},
   "outputs": [],
   "source": [
    "def model_results(res):\n",
    "    \"\"\"Given a results vector returns accuracy and f1-score\"\"\"\n",
    "    total = res.count()\n",
    "    \n",
    "    tp = res.where((res.label==1) & (res.prediction==1)).count()\n",
    "    tn = res.where((res.label==0) & (res.prediction==0)).count()\n",
    "    \n",
    "    fp = res.where((res.label==1) &  (res.prediction==1)).count()\n",
    "    fn = res.where((res.label==0) & (res.prediction==0)).count()\n",
    "        \n",
    "    accuracy = (1.0*tp + tn) / total\n",
    "    precision = 1.0*tp / (tp + fp)\n",
    "    recall = 1.0*tp / (tp + fn)\n",
    "    f1 = 2.0 * (precision * recall) / (precision + recall)\n",
    "    \n",
    "    print('Accuracy: ', round(accuracy, 2))\n",
    "    print('Precision: ', round(precision, 2))\n",
    "    print('Recall: ', round(recall, 2))\n",
    "    print('F1-Score: ', round(f1, 2))"
   ]
  },
  {
   "cell_type": "code",
   "execution_count": 404,
   "metadata": {},
   "outputs": [],
   "source": [
    "#create alogistic regression ml \n",
    "logRe =  LogisticRegression(maxIter=10, regParam=0.0, elasticNetParam=0)\n"
   ]
  },
  {
   "cell_type": "code",
   "execution_count": 405,
   "metadata": {},
   "outputs": [],
   "source": [
    "#fit out logit model\n",
    "logRe_model = logRe.fit(train)\n"
   ]
  },
  {
   "cell_type": "code",
   "execution_count": 406,
   "metadata": {},
   "outputs": [],
   "source": [
    "#we apply trained model on test set\n",
    "results = logRe_model.transform(test)\n"
   ]
  },
  {
   "cell_type": "code",
   "execution_count": 407,
   "metadata": {},
   "outputs": [
    {
     "name": "stdout",
     "output_type": "stream",
     "text": [
      "Accuracy:  0.74\n",
      "Precision:  0.5\n",
      "Recall:  0.08\n",
      "F1-Score:  0.14\n"
     ]
    }
   ],
   "source": [
    "model_results(results)"
   ]
  },
  {
   "cell_type": "markdown",
   "metadata": {},
   "source": [
    "The logistics regression model did not perform well so we can try other models"
   ]
  },
  {
   "cell_type": "code",
   "execution_count": 408,
   "metadata": {},
   "outputs": [
    {
     "name": "stdout",
     "output_type": "stream",
     "text": [
      "Accuracy:  0.85\n",
      "Precision:  0.5\n",
      "Recall:  0.17\n",
      "F1-Score:  0.26\n"
     ]
    }
   ],
   "source": [
    "#decisionTree Model\n",
    "dt = DecisionTreeClassifier()\n",
    "dt_model = dt.fit(train)\n",
    "results_dt = dt_model.transform(test)\n",
    "model_results(results_dt)"
   ]
  },
  {
   "cell_type": "markdown",
   "metadata": {},
   "source": [
    "The decision tree model performed better than the logistic regression model. "
   ]
  },
  {
   "cell_type": "code",
   "execution_count": 409,
   "metadata": {},
   "outputs": [
    {
     "name": "stdout",
     "output_type": "stream",
     "text": [
      "Accuracy:  0.88\n",
      "Precision:  0.75\n",
      "Recall:  0.75\n",
      "F1-Score:  0.75\n"
     ]
    }
   ],
   "source": [
    "rf = RandomForestClassifier()\n",
    "rf_model = rf.fit(train)\n",
    "results_rf = rf_model.transform(test)\n",
    "get_metrics(results_rf)"
   ]
  },
  {
   "cell_type": "markdown",
   "metadata": {},
   "source": [
    "## CONCLUSION\n",
    "\n",
    "Overall,  I got to clean and analyze trends in this data to get the features I wanted to try. After trying the features and building the model - at first it did not look good with Logistic Regression. However, it got a bit better with Decition Tree model. Finally, Regression Model did the best with F1 score of 0.75! I was happy to see this result."
   ]
  },
  {
   "cell_type": "code",
   "execution_count": null,
   "metadata": {},
   "outputs": [],
   "source": []
  }
 ],
 "metadata": {
  "kernelspec": {
   "display_name": "Python 3",
   "language": "python",
   "name": "python3"
  },
  "language_info": {
   "codemirror_mode": {
    "name": "ipython",
    "version": 3
   },
   "file_extension": ".py",
   "mimetype": "text/x-python",
   "name": "python",
   "nbconvert_exporter": "python",
   "pygments_lexer": "ipython3",
   "version": "3.6.3"
  }
 },
 "nbformat": 4,
 "nbformat_minor": 2
}
